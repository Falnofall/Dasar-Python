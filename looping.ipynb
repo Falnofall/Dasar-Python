{
  "nbformat": 4,
  "nbformat_minor": 0,
  "metadata": {
    "colab": {
      "provenance": [],
      "authorship_tag": "ABX9TyNfuHz0pODxkbmLXNNIvcWv",
      "include_colab_link": true
    },
    "kernelspec": {
      "name": "python3",
      "display_name": "Python 3"
    },
    "language_info": {
      "name": "python"
    }
  },
  "cells": [
    {
      "cell_type": "markdown",
      "metadata": {
        "id": "view-in-github",
        "colab_type": "text"
      },
      "source": [
        "<a href=\"https://colab.research.google.com/github/Falnofall/Dasar-Python/blob/main/looping.ipynb\" target=\"_parent\"><img src=\"https://colab.research.google.com/assets/colab-badge.svg\" alt=\"Open In Colab\"/></a>"
      ]
    },
    {
      "cell_type": "markdown",
      "source": [
        "# Looping\n",
        "\n",
        "Secara umum, looping atau perulangan pada Python adalah instruksi kode program yang dieksekusi berulang kali. Fungsinya untuk memerintah komputer melakukan sesuatu secara berulang-ulang dengan jumlah tertentu selama sebuah kondisi yang telah ditentukan masih terpenuhi."
      ],
      "metadata": {
        "id": "uzSayI0d9L9U"
      }
    },
    {
      "cell_type": "markdown",
      "source": [
        "**While Loop**\n",
        "\n",
        "While loop adalah perulangan uncountable atau perulangan yang jumlah proses pengulangannya tidak ditentukan. Ia akan menjalankan baris kode di dalam blok kodenya secara terus menerus selama masih memenuhi ekspresi yang sudah ditentukan sebelumnya, yang berarti ia akan terus mengulang selama kondisi bernilai TRUE. Berikut syntax dasar pada while Python:"
      ],
      "metadata": {
        "id": "A7rn479L9kG3"
      }
    },
    {
      "cell_type": "code",
      "source": [
        "i = 0\n",
        "while i < 5 :\n",
        "  print('Hello world' ,i)\n",
        "  i += 1"
      ],
      "metadata": {
        "colab": {
          "base_uri": "https://localhost:8080/"
        },
        "id": "ryb1CbID9s0U",
        "outputId": "6fedbf04-431e-406a-b7e7-34ca899c0f16"
      },
      "execution_count": null,
      "outputs": [
        {
          "output_type": "stream",
          "name": "stdout",
          "text": [
            "Hello world 0\n",
            "Hello world 1\n",
            "Hello world 2\n",
            "Hello world 3\n",
            "Hello world 4\n"
          ]
        }
      ]
    },
    {
      "cell_type": "markdown",
      "source": [
        "**Foor Loop**\n",
        "\n",
        "erbeda dengan mayoritas bahasa pemrograman lain, di dalam Python perulangan for memiliki kemampuan untuk mengulangi item dari urutan apapun, seperti list atau string.\n",
        "Berikut syntax dasar untuk struktur for loop dalam bahasa pemrograman Python:"
      ],
      "metadata": {
        "id": "Kpfyn1359uO6"
      }
    },
    {
      "cell_type": "code",
      "source": [
        "for i in range(5):\n",
        "  print('Hello world' ,i)\n"
      ],
      "metadata": {
        "colab": {
          "base_uri": "https://localhost:8080/"
        },
        "id": "hDlPfs1d98Kb",
        "outputId": "296a6b8f-7eaf-43dc-d6cc-48859038aa86"
      },
      "execution_count": null,
      "outputs": [
        {
          "output_type": "stream",
          "name": "stdout",
          "text": [
            "Hello world 0\n",
            "Hello world 1\n",
            "Hello world 2\n",
            "Hello world 3\n",
            "Hello world 4\n"
          ]
        }
      ]
    },
    {
      "cell_type": "markdown",
      "source": [
        "**Nested Loop**\n",
        "\n",
        "Nested loop atau loop bersarang, merupakan jenis loop pada Python yang mengizinkan penggunaan loop didalam loop. Tentu hal ini akan berimbas pada penggunaan memori, sehingga pastikan looping yang digunakan tidak mubazir. Dibawah ini adalah contoh penggunaan nested loop."
      ],
      "metadata": {
        "id": "-NCW11KX98vK"
      }
    },
    {
      "cell_type": "code",
      "source": [
        "for i in range(2):\n",
        "  print('Hello world luar' ,i)\n",
        "\n",
        "  for j in range(3):\n",
        "    print('Hello world dalam' ,j)"
      ],
      "metadata": {
        "colab": {
          "base_uri": "https://localhost:8080/"
        },
        "id": "8V8NaUKS-E6J",
        "outputId": "dcb19d67-a6fa-48d8-da18-dfe355554fe9"
      },
      "execution_count": null,
      "outputs": [
        {
          "output_type": "stream",
          "name": "stdout",
          "text": [
            "Hello world luar 0\n",
            "Hello world dalam 0\n",
            "Hello world dalam 1\n",
            "Hello world dalam 2\n",
            "Hello world luar 1\n",
            "Hello world dalam 0\n",
            "Hello world dalam 1\n",
            "Hello world dalam 2\n"
          ]
        }
      ]
    }
  ]
}