{
  "nbformat": 4,
  "nbformat_minor": 0,
  "metadata": {
    "colab": {
      "provenance": [],
      "authorship_tag": "ABX9TyNE3Z4MxcLHbWcfaAaNFz4q",
      "include_colab_link": true
    },
    "kernelspec": {
      "name": "python3",
      "display_name": "Python 3"
    },
    "language_info": {
      "name": "python"
    }
  },
  "cells": [
    {
      "cell_type": "markdown",
      "metadata": {
        "id": "view-in-github",
        "colab_type": "text"
      },
      "source": [
        "<a href=\"https://colab.research.google.com/github/Falnofall/Dasar-Python/blob/main/conditional.ipynb\" target=\"_parent\"><img src=\"https://colab.research.google.com/assets/colab-badge.svg\" alt=\"Open In Colab\"/></a>"
      ]
    },
    {
      "cell_type": "markdown",
      "source": [
        "# Conditional Statement\n",
        "\n",
        "Conditional statement digunakan untuk memeriksa suatu kondisi yang ditentukan sebelumnya apakah nilai nya True atau False.\n",
        "Sering kali ketika kita sedang mengembangkan suatu aplikasi, ada hal di mana kita perlu memeriksa suatu kondisi tertentu lalu melakukan perintah yang berbeda tergantung pada hasil sebelumnya. Dalam skenario seperti itu conditional statement akan sangat berguna if, elif dan else adalah pernyataan kondisional yang digunakan dalam bahasa pemrograman Python"
      ],
      "metadata": {
        "id": "VrGY6s5tzG_b"
      }
    },
    {
      "cell_type": "markdown",
      "source": [
        "**Kondisi pertama**\n",
        "\n",
        "kondisi pertama, Kita memiliki suatu integer dan tiga kondisi. Yang pertama adalah kondisi if untuk mengecek apakah nomor tersebut sama dengan 10. Yang kedua adalah kondisi elif. Disini kita akan memeriksa apakah nomor tersebut kurang dari 10. Yang terakhir adalah kondisi else. Kondisi ini akan tereksekusi jika kedua kondisi sebelumnya tidak memenuhi syarat."
      ],
      "metadata": {
        "id": "jS625n0v3BZf"
      }
    },
    {
      "cell_type": "code",
      "source": [
        "angka = 5\n",
        "if angka == 10:\n",
        "  print(\"angka adalah 10\")\n",
        "elif angka < 10:\n",
        "  print(\"angka adalah kurang dari 10\")\n",
        "else:\n",
        "  print(\"angka adalah lebih dari 10\")"
      ],
      "metadata": {
        "colab": {
          "base_uri": "https://localhost:8080/"
        },
        "id": "JaYZMFib3GBh",
        "outputId": "fb50197c-e60a-44c0-fb07-522962c962bf"
      },
      "execution_count": null,
      "outputs": [
        {
          "output_type": "stream",
          "name": "stdout",
          "text": [
            "angka adalah kurang dari 10\n"
          ]
        }
      ]
    },
    {
      "cell_type": "markdown",
      "source": [
        "**Kondisi Kedua**\n",
        "\n",
        "Kondisi kedua. Pada kasus ini kita akan memiliki variabel boolean dan dua kondisi. Pada contoh sebelumnya ketika kita membahas mengenai boolean apakah benar atau salah? Saat ini kita akan menggunakannya kembali pada conditional statement."
      ],
      "metadata": {
        "id": "vV9GWxqM3asc"
      }
    },
    {
      "cell_type": "code",
      "source": [
        "anda_robot = False\n",
        "if anda_robot:\n",
        "  print (\"Ya, saya robot\")\n",
        "else:\n",
        "  print (\"bukan, saya manusia\")"
      ],
      "metadata": {
        "colab": {
          "base_uri": "https://localhost:8080/"
        },
        "id": "he52EZ563olb",
        "outputId": "e08d1bd7-836a-41c2-fd4c-7d1d33e11d76"
      },
      "execution_count": null,
      "outputs": [
        {
          "output_type": "stream",
          "name": "stdout",
          "text": [
            "bukan, saya manusia\n"
          ]
        }
      ]
    },
    {
      "cell_type": "markdown",
      "source": [
        "**Kondisi ketiga**\n",
        "\n",
        "Kondisi ketiga. Pada contoh ini kita akan membuat kondisi berkebalikan dari kondisi kedua dengan operator not."
      ],
      "metadata": {
        "id": "4Hc7vatT37XQ"
      }
    },
    {
      "cell_type": "code",
      "source": [
        "anda_robot = False\n",
        "if not anda_robot:\n",
        "  print (\"Ya, saya robot\")\n",
        "else:\n",
        "  print (\"bukan, saya manusia\")"
      ],
      "metadata": {
        "colab": {
          "base_uri": "https://localhost:8080/"
        },
        "id": "cCHz20rg4GHW",
        "outputId": "e2a869fe-fd59-4b77-945a-d68cffaea52c"
      },
      "execution_count": null,
      "outputs": [
        {
          "output_type": "stream",
          "name": "stdout",
          "text": [
            "Ya, saya robot\n"
          ]
        }
      ]
    },
    {
      "cell_type": "markdown",
      "source": [
        "**Kondisi Keempat**\n",
        "\n",
        "Kondisi ke empat. Disini kita akan mendeklarasikan data sebagai None, lalu memeriksanya jika data tersebut ada atau tidak."
      ],
      "metadata": {
        "id": "mbFykwrj4Qic"
      }
    },
    {
      "cell_type": "code",
      "source": [
        "data = None\n",
        "if data:\n",
        "  print (\"data bukan none\")\n",
        "else:\n",
        "  print (\"data adalah none\")"
      ],
      "metadata": {
        "colab": {
          "base_uri": "https://localhost:8080/"
        },
        "id": "UpDWocR04bK0",
        "outputId": "b89cfe2f-d35b-4f7b-92fb-4763eab5b14d"
      },
      "execution_count": null,
      "outputs": [
        {
          "output_type": "stream",
          "name": "stdout",
          "text": [
            "data adalah none\n"
          ]
        }
      ]
    },
    {
      "cell_type": "markdown",
      "source": [
        "**Kondisi Kelima**\n",
        "\n",
        "Kondisi kelima. Anda pun dapat menggunakan if dalam satu baris pada bahasa pemrograman Python. Syntax nya akan terlihat seperti pada:"
      ],
      "metadata": {
        "id": "bUyE7RYb4n-R"
      }
    },
    {
      "cell_type": "code",
      "source": [
        "a = 10\n",
        "b = 5\n",
        "if a > b: print(\"a lebih besar dari b\")"
      ],
      "metadata": {
        "colab": {
          "base_uri": "https://localhost:8080/"
        },
        "id": "drGZu5bX4w0u",
        "outputId": "db281367-1906-4eb0-977b-98c25c067143"
      },
      "execution_count": null,
      "outputs": [
        {
          "output_type": "stream",
          "name": "stdout",
          "text": [
            "a lebih besar dari b\n"
          ]
        }
      ]
    },
    {
      "cell_type": "markdown",
      "source": [
        "**Kondisi Ke enam**\n",
        "\n",
        "Kondisi ke enam. Anda pun dapat menggunakani f else dalam satu baris, seperti pada contoh di bawah ini:"
      ],
      "metadata": {
        "id": "XQuvU73Q437D"
      }
    },
    {
      "cell_type": "code",
      "source": [
        "num = 5\n",
        "print(\"Angka adalah lima \") if num == 5 else print(\"Angka bukan lima\")"
      ],
      "metadata": {
        "colab": {
          "base_uri": "https://localhost:8080/"
        },
        "id": "TwHPz7vh5E07",
        "outputId": "5d759447-e056-42e8-c38f-1ae48e4a7155"
      },
      "execution_count": null,
      "outputs": [
        {
          "output_type": "stream",
          "name": "stdout",
          "text": [
            "Angka adalah lima \n"
          ]
        }
      ]
    },
    {
      "cell_type": "markdown",
      "source": [
        "**Kondisi Ketujuh**\n",
        "\n",
        "Kondisi ketujuh. Anda pun dapat menggunakan nested if-else statement, yaitu:"
      ],
      "metadata": {
        "id": "YAnXo7Fs5Lhc"
      }
    },
    {
      "cell_type": "code",
      "source": [
        "num = 25\n",
        "if num > 10:\n",
        "  print(\"Angka lebih besar dari 10\")\n",
        "  if num > 20:\n",
        "    print(\"Angka lebih besar dari 20\")\n",
        "  if num > 30:\n",
        "    print(\"Angka lebih besar dari 30\")\n",
        "else:\n",
        "  print(\"Angka lebih kecil dari 10\")"
      ],
      "metadata": {
        "colab": {
          "base_uri": "https://localhost:8080/"
        },
        "id": "35syvnw-5Svt",
        "outputId": "0e5fb804-a8b0-4531-f091-1c49cd836280"
      },
      "execution_count": null,
      "outputs": [
        {
          "output_type": "stream",
          "name": "stdout",
          "text": [
            "Angka lebih besar dari 10\n",
            "Angka lebih besar dari 20\n"
          ]
        }
      ]
    },
    {
      "cell_type": "markdown",
      "source": [
        "**Kondisi Kedelapan**\n",
        "\n",
        "Kondisi kedelapan. Anda dapat pula mengunakan operator and pada conditional statement. Operator ini menyatakan jika kondisi 1 dan 2 keduanya adalah benar."
      ],
      "metadata": {
        "id": "5R90ODQt5gQY"
      }
    },
    {
      "cell_type": "code",
      "source": [
        "num = 10\n",
        "if num > 5 and num < 15:\n",
        "  print(num)\n",
        "else:\n",
        "  print(\"Angka bisa lebih kecil dari 5 atau lebih besar dari 15\")"
      ],
      "metadata": {
        "colab": {
          "base_uri": "https://localhost:8080/"
        },
        "id": "YcMphCpe5qjR",
        "outputId": "3ce8de49-beef-46e2-9d91-53aec15c1083"
      },
      "execution_count": null,
      "outputs": [
        {
          "output_type": "stream",
          "name": "stdout",
          "text": [
            "10\n"
          ]
        }
      ]
    },
    {
      "cell_type": "markdown",
      "source": [
        "**Kondisi Kesembilan**\n",
        "\n",
        "kondisi kesembilan. Anda pun dapat menggunakan operator or dalam pernyataan bersyarat. Hal ini untuk menyatakan bahwa jika salah satu kondisi 1 atau kondisi 2 benar, sehingga program akan di eksekusi."
      ],
      "metadata": {
        "id": "ifv--7-85x_N"
      }
    },
    {
      "cell_type": "code",
      "source": [
        "num = 10\n",
        "if num > 5 or num < 7:\n",
        "  print(num)"
      ],
      "metadata": {
        "colab": {
          "base_uri": "https://localhost:8080/"
        },
        "id": "DCNb9K2Y56pA",
        "outputId": "d6f54345-305e-4b7f-e369-d7f000a052c8"
      },
      "execution_count": null,
      "outputs": [
        {
          "output_type": "stream",
          "name": "stdout",
          "text": [
            "10\n"
          ]
        }
      ]
    }
  ]
}