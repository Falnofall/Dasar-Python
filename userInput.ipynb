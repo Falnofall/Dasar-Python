{
  "nbformat": 4,
  "nbformat_minor": 0,
  "metadata": {
    "colab": {
      "provenance": [],
      "authorship_tag": "ABX9TyOtn1E/jgBZZHxvz/G6G1tH",
      "include_colab_link": true
    },
    "kernelspec": {
      "name": "python3",
      "display_name": "Python 3"
    },
    "language_info": {
      "name": "python"
    }
  },
  "cells": [
    {
      "cell_type": "markdown",
      "metadata": {
        "id": "view-in-github",
        "colab_type": "text"
      },
      "source": [
        "<a href=\"https://colab.research.google.com/github/Falnofall/Dasar-Python/blob/main/userInput.ipynb\" target=\"_parent\"><img src=\"https://colab.research.google.com/assets/colab-badge.svg\" alt=\"Open In Colab\"/></a>"
      ]
    },
    {
      "cell_type": "markdown",
      "source": [
        "# User input\n",
        "\n",
        "user input merupakan sebuah data, informasi, atau nilai apa pun yang dikirimkan oleh user kepada komputer untuk diproses lebih lanjut, yang kalau di python bisa menggunakan fungsi input()"
      ],
      "metadata": {
        "id": "TbyxGBTkJ-IA"
      }
    },
    {
      "cell_type": "code",
      "execution_count": null,
      "metadata": {
        "id": "ClWxznItJ8x2"
      },
      "outputs": [],
      "source": [
        "# contoh sederhananya\n",
        "name = input('masukan nama anda :') # ini adalah tempat untuk memasukan inputnya\n",
        "print(name)"
      ]
    },
    {
      "cell_type": "markdown",
      "source": [
        "TypeCasting\n",
        "\n",
        "dalama python ada beberapa input yang dapat di masukan contohnya di bawah ini:\n",
        "1.str(input)\n",
        "2.int(input)\n",
        "3.float(input)"
      ],
      "metadata": {
        "id": "DKuEPUahLeDC"
      }
    },
    {
      "cell_type": "code",
      "source": [
        "#contoh dari type casting\n",
        "\n",
        "# string / str\n",
        "a = str(input('masukan apapun selain angka :'))\n",
        "type(a) # output str\n",
        "\n",
        "# integer / int\n",
        "b = int(input('masukan appun selain karakter : '))\n",
        "type(b) # output int\n",
        "\n",
        "# float\n",
        "c = float(input('masukan angka bertipe float atau decimal : '))\n",
        "type(c)\n",
        "\n"
      ],
      "metadata": {
        "id": "p4-CcpfIMmTs"
      },
      "execution_count": null,
      "outputs": []
    }
  ]
}