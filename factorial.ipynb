{
  "nbformat": 4,
  "nbformat_minor": 0,
  "metadata": {
    "colab": {
      "provenance": [],
      "toc_visible": true,
      "authorship_tag": "ABX9TyM7CfPU6EGmSnsgCzw2lQRs",
      "include_colab_link": true
    },
    "kernelspec": {
      "name": "python3",
      "display_name": "Python 3"
    },
    "language_info": {
      "name": "python"
    }
  },
  "cells": [
    {
      "cell_type": "markdown",
      "metadata": {
        "id": "view-in-github",
        "colab_type": "text"
      },
      "source": [
        "<a href=\"https://colab.research.google.com/github/Falnofall/Dasar-Python/blob/main/factorial.ipynb\" target=\"_parent\"><img src=\"https://colab.research.google.com/assets/colab-badge.svg\" alt=\"Open In Colab\"/></a>"
      ]
    },
    {
      "cell_type": "markdown",
      "source": [
        "# MEMBUAT BILANGAN FAKTORIAL DENGAN PYTHON\n"
      ],
      "metadata": {
        "id": "I4pCQUZwexRM"
      }
    },
    {
      "cell_type": "markdown",
      "source": [
        "**RUMUS BILANGAN FAKTORIAL**\n",
        "\n",
        "> n! = n * (n-1) * (n-2)...\n",
        "\n",
        "> 4! = 4 * 3 * 2 * 1 = 24\n"
      ],
      "metadata": {
        "id": "bdSMGhF8fIus"
      }
    },
    {
      "cell_type": "code",
      "source": [
        "print(\"======================================\")\n",
        "print(\"~~~~~~~~  Selamat Mencoba  ~~~~~~~~~~~\")\n",
        "print(\"======================================\")\n",
        "\n",
        "\n",
        "n = int(input(\"Masukan nilai n : \"))\n",
        "\n",
        "factorial = 1\n",
        "\n",
        "for i in range(2, n + 1):\n",
        "  factorial *= i\n",
        "\n",
        "print(f'Nilai dari {n}! = {factorial}')"
      ],
      "metadata": {
        "colab": {
          "base_uri": "https://localhost:8080/"
        },
        "id": "_KKhdMXusc3u",
        "outputId": "aeb0ce53-bf2d-406a-c4f9-c3d7102141ad"
      },
      "execution_count": null,
      "outputs": [
        {
          "output_type": "stream",
          "name": "stdout",
          "text": [
            "======================================\n",
            "~~~~~~~~  Selamat Mencoba  ~~~~~~~~~~~\n",
            "======================================\n"
          ]
        }
      ]
    }
  ]
}